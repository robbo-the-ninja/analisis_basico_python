{
 "cells": [
  {
   "cell_type": "markdown",
   "id": "008172f2",
   "metadata": {},
   "source": [
    "# Análisis de mis estadísticas como corredor\n",
    "Lo siguiente es un análisis de de la información almacenada por mi reloj Garmin. La información se remonta desde marzo de 2024 hasta abril de 2025. Más de un año de datos."
   ]
  },
  {
   "cell_type": "code",
   "execution_count": 2,
   "id": "1b299e2c",
   "metadata": {},
   "outputs": [
    {
     "name": "stdout",
     "output_type": "stream",
     "text": [
      "  Activity Type                 Date  Favorite  \\\n",
      "0       Running  2025-05-03 07:02:08     False   \n",
      "1       Running  2025-05-02 07:23:55     False   \n",
      "2       Running  2025-05-01 07:16:06     False   \n",
      "3       Running  2025-04-27 07:28:30     False   \n",
      "4       Running  2025-04-26 07:35:04     False   \n",
      "\n",
      "                                   Title Distance Calories      Time  Avg HR  \\\n",
      "0            Ecatepec de Morelos Running     4.21      320  00:27:01     145   \n",
      "1            Ecatepec de Morelos Running     4.16      315  00:27:16     143   \n",
      "2            Ecatepec de Morelos Running     4.17      308  00:27:00     143   \n",
      "3            Ecatepec de Morelos Running     9.24      674  01:00:03     144   \n",
      "4  Ecatepec de Morelos - Series a umbral     8.80      635  00:54:21     149   \n",
      "\n",
      "   Max HR Avg Run Cadence  ... Max Resp Stress Change Stress Start Stress End  \\\n",
      "0     158             165  ...       --            --           --         --   \n",
      "1     156             165  ...       --            --           --         --   \n",
      "2     160             165  ...       --            --           --         --   \n",
      "3     156             168  ...       --            --           --         --   \n",
      "4     177             160  ...       --            --           --         --   \n",
      "\n",
      "  Avg Stress Max Stress  Moving Time Elapsed Time Min Elevation Max Elevation  \n",
      "0         --         --     00:26:59     00:27:01         2,225         2,236  \n",
      "1         --         --     00:27:10     00:27:16         2,225         2,235  \n",
      "2         --         --     00:26:58     00:27:00         2,225         2,235  \n",
      "3         --         --     00:59:56     01:00:03         2,225         2,236  \n",
      "4         --         --     00:53:43     00:54:21         2,225         2,235  \n",
      "\n",
      "[5 rows x 33 columns]\n"
     ]
    }
   ],
   "source": [
    "# Empecemos cargando las librerías.\n",
    "import pandas as pd\n",
    "import matplotlib.pyplot as plt\n",
    "\n",
    "# Carguemos el archivo.\n",
    "df = pd.read_csv('my_running.csv')\n",
    "\n",
    "# Primeras filas.\n",
    "print(df.head(5))\n"
   ]
  },
  {
   "cell_type": "code",
   "execution_count": 3,
   "id": "04612071",
   "metadata": {},
   "outputs": [
    {
     "name": "stdout",
     "output_type": "stream",
     "text": [
      "<class 'pandas.core.frame.DataFrame'>\n",
      "RangeIndex: 163 entries, 0 to 162\n",
      "Data columns (total 33 columns):\n",
      " #   Column                  Non-Null Count  Dtype  \n",
      "---  ------                  --------------  -----  \n",
      " 0   Activity Type           163 non-null    object \n",
      " 1   Date                    163 non-null    object \n",
      " 2   Favorite                163 non-null    bool   \n",
      " 3   Title                   163 non-null    object \n",
      " 4   Distance                163 non-null    object \n",
      " 5   Calories                163 non-null    object \n",
      " 6   Time                    163 non-null    object \n",
      " 7   Avg HR                  163 non-null    int64  \n",
      " 8   Max HR                  163 non-null    int64  \n",
      " 9   Avg Run Cadence         163 non-null    object \n",
      " 10  Max Run Cadence         163 non-null    object \n",
      " 11  Avg Pace                163 non-null    object \n",
      " 12  Best Pace               163 non-null    object \n",
      " 13  Total Ascent            163 non-null    object \n",
      " 14  Total Descent           163 non-null    object \n",
      " 15  Avg Stride Length       163 non-null    object \n",
      " 16  Training Stress Score®  163 non-null    float64\n",
      " 17  Steps                   163 non-null    object \n",
      " 18  Decompression           163 non-null    object \n",
      " 19  Best Lap Time           163 non-null    object \n",
      " 20  Number of Laps          163 non-null    int64  \n",
      " 21  Avg Resp                163 non-null    object \n",
      " 22  Min Resp                163 non-null    object \n",
      " 23  Max Resp                163 non-null    object \n",
      " 24  Stress Change           163 non-null    object \n",
      " 25  Stress Start            163 non-null    object \n",
      " 26  Stress End              163 non-null    object \n",
      " 27  Avg Stress              163 non-null    object \n",
      " 28  Max Stress              163 non-null    object \n",
      " 29  Moving Time             163 non-null    object \n",
      " 30  Elapsed Time            163 non-null    object \n",
      " 31  Min Elevation           163 non-null    object \n",
      " 32  Max Elevation           163 non-null    object \n",
      "dtypes: bool(1), float64(1), int64(3), object(28)\n",
      "memory usage: 41.0+ KB\n",
      "None\n"
     ]
    }
   ],
   "source": [
    "# Información general\n",
    "print(df.info())"
   ]
  },
  {
   "cell_type": "markdown",
   "id": "4f0d8f93",
   "metadata": {},
   "source": [
    "## Limpieza de datos\n",
    "Las columnas deberían seguir la convención snake_case. Además noto muchísimas columnas llenas de datos con información no relevante."
   ]
  },
  {
   "cell_type": "code",
   "execution_count": 5,
   "id": "ebd2010c",
   "metadata": {},
   "outputs": [
    {
     "name": "stdout",
     "output_type": "stream",
     "text": [
      "Nombres de columnas actualizados:\n",
      "['activity_type', 'date', 'favorite', 'title', 'distance', 'calories', 'time', 'avg_hr', 'max_hr', 'avg_run_cadence', 'max_run_cadence', 'avg_pace', 'best_pace', 'total_ascent', 'total_descent', 'avg_stride_length', 'training_stress_score', 'steps', 'decompression', 'best_lap_time', 'number_of_laps', 'avg_resp', 'min_resp', 'max_resp', 'stress_change', 'stress_start', 'stress_end', 'avg_stress', 'max_stress', 'moving_time', 'elapsed_time', 'min_elevation', 'max_elevation']\n"
     ]
    }
   ],
   "source": [
    "# Hagamos que los nombres de las columnas sigan la convención 'snake_case'. Haremos una función.\n",
    "\n",
    "import re\n",
    "\n",
    "def to_snake_case(column_name):\n",
    "    #Paso uno: eliminar símbolos\n",
    "    column_name = re.sub(r'[^\\w\\s]','', column_name)\n",
    "\n",
    "    #Paso dos: convertir espacios a guiones\n",
    "    column_name = column_name.replace(' ', '_').replace('-','_')\n",
    "\n",
    "    #Paso tres: convertir minúsculas y quitar _ duplicados.\n",
    "    column_name=re.sub(r'_+', '_', column_name).lower()\n",
    "\n",
    "    return column_name\n",
    "\n",
    "# Renombrar las columnas del DataFrame\n",
    "df.columns = [to_snake_case(col) for col in df.columns]\n",
    "\n",
    "# Verificar el resultado\n",
    "print(\"Nombres de columnas actualizados:\")\n",
    "print(df.columns.tolist())\n"
   ]
  },
  {
   "cell_type": "markdown",
   "id": "534f3829",
   "metadata": {},
   "source": [
    "## Eliminación de columnas no necesarias\n",
    "Ahora que las columnas siguen la convención snake_case, vamos a eliminar columnas con información no relevante."
   ]
  },
  {
   "cell_type": "code",
   "execution_count": 7,
   "id": "cbbbe48f",
   "metadata": {},
   "outputs": [
    {
     "name": "stdout",
     "output_type": "stream",
     "text": [
      "Columnas restantes: ['activity_type', 'date', 'title', 'distance', 'calories', 'time', 'avg_hr', 'max_hr', 'avg_run_cadence', 'max_run_cadence', 'avg_pace', 'best_pace', 'total_ascent', 'total_descent', 'avg_stride_length', 'training_stress_score', 'steps', 'best_lap_time', 'number_of_laps', 'moving_time', 'elapsed_time', 'min_elevation', 'max_elevation']\n"
     ]
    }
   ],
   "source": [
    "# Lista de columnas a eliminar\n",
    "columns_to_drop = [\n",
    "    'avg_resp', \n",
    "    'min_resp', \n",
    "    'max_resp', \n",
    "    'stress_change', \n",
    "    'stress_start', \n",
    "    'stress_end', \n",
    "    'avg_stress', \n",
    "    'max_stress',\n",
    "    'decompression',\n",
    "    'favorite'\n",
    "]\n",
    "\n",
    "# Filtrar solo las columnas que existen en el DataFrame (para evitar errores)\n",
    "existing_columns = [col for col in columns_to_drop if col in df.columns]\n",
    "\n",
    "# Eliminar las columnas\n",
    "df = df.drop(columns=existing_columns)\n",
    "\n",
    "# Verificar resultado\n",
    "print(\"Columnas restantes:\", df.columns.tolist())"
   ]
  },
  {
   "cell_type": "markdown",
   "id": "3de6d0cf",
   "metadata": {},
   "source": [
    "Ahora nos vamos a deshacer de las actividades que no sean carreras (running)."
   ]
  },
  {
   "cell_type": "code",
   "execution_count": 9,
   "id": "21abc320",
   "metadata": {},
   "outputs": [
    {
     "name": "stdout",
     "output_type": "stream",
     "text": [
      "Actividades de running: 140\n",
      "\n",
      "Primeras 3 filas filtradas:\n",
      "  activity_type                 date                        title distance  \\\n",
      "0       Running  2025-05-03 07:02:08  Ecatepec de Morelos Running     4.21   \n",
      "1       Running  2025-05-02 07:23:55  Ecatepec de Morelos Running     4.16   \n",
      "2       Running  2025-05-01 07:16:06  Ecatepec de Morelos Running     4.17   \n",
      "\n",
      "  calories      time  avg_hr  max_hr avg_run_cadence max_run_cadence  ...  \\\n",
      "0      320  00:27:01     145     158             165             171  ...   \n",
      "1      315  00:27:16     143     156             165             171  ...   \n",
      "2      308  00:27:00     143     160             165             169  ...   \n",
      "\n",
      "  total_descent avg_stride_length training_stress_score  steps best_lap_time  \\\n",
      "0             8              0.95                   0.0  4,454    00:01:24.9   \n",
      "1            18              0.93                   0.0  4,482    00:01:03.1   \n",
      "2             7              0.94                   0.0  4,438    00:01:09.4   \n",
      "\n",
      "   number_of_laps moving_time elapsed_time  min_elevation max_elevation  \n",
      "0               5    00:26:59     00:27:01          2,225         2,236  \n",
      "1               5    00:27:10     00:27:16          2,225         2,235  \n",
      "2               5    00:26:58     00:27:00          2,225         2,235  \n",
      "\n",
      "[3 rows x 23 columns]\n"
     ]
    }
   ],
   "source": [
    "# Filtrar solo filas donde 'activity_type' es 'Running' (en snake_case)\n",
    "df = df[df['activity_type'] == 'Running']\n",
    "\n",
    "# Verificar resultados\n",
    "print(f\"Actividades de running: {len(df)}\")\n",
    "print(\"\\nPrimeras 3 filas filtradas:\")\n",
    "print(df.head(3))"
   ]
  },
  {
   "cell_type": "markdown",
   "id": "6f4284b4",
   "metadata": {},
   "source": [
    "## Transformación de datos clave\n",
    "Comenzaremos convirtiendo la velocidad en un formato diferente, que nos permita comparar los distintos valores."
   ]
  },
  {
   "cell_type": "code",
   "execution_count": 11,
   "id": "a40f3581-1405-45de-92b7-7c98290dcb6e",
   "metadata": {},
   "outputs": [
    {
     "name": "stdout",
     "output_type": "stream",
     "text": [
      "0    6:25\n",
      "1    6:33\n",
      "Name: avg_pace, dtype: object\n"
     ]
    }
   ],
   "source": [
    "print(df['avg_pace'].head(2))"
   ]
  },
  {
   "cell_type": "code",
   "execution_count": 12,
   "id": "9c35db70",
   "metadata": {},
   "outputs": [
    {
     "name": "stdout",
     "output_type": "stream",
     "text": [
      "Primeros 2 valores convertidos:\n",
      "   avg_pace\n",
      "0  6.416667\n",
      "1  6.550000\n"
     ]
    }
   ],
   "source": [
    "# Transformación directa de 'avg_pace' (sobreescribiendo la columna original)\n",
    "df['avg_pace'] = df['avg_pace'].str.split(':').apply(lambda x: int(x[0]) + int(x[1])/60)\n",
    "\n",
    "# Verificación\n",
    "print(\"Primeros 2 valores convertidos:\")\n",
    "print(df[['avg_pace']].head(2))"
   ]
  },
  {
   "cell_type": "markdown",
   "id": "67c98c4a",
   "metadata": {},
   "source": [
    "Ahora vamos a convertir la columna 'date' a tipo datetime"
   ]
  },
  {
   "cell_type": "code",
   "execution_count": 14,
   "id": "6b585fd9",
   "metadata": {},
   "outputs": [
    {
     "name": "stdout",
     "output_type": "stream",
     "text": [
      "\n",
      "Primeras 3 filas con hora y mes:\n",
      "                 date  hour  month\n",
      "0 2025-05-03 07:02:08     7      5\n",
      "1 2025-05-02 07:23:55     7      5\n",
      "2 2025-05-01 07:16:06     7      5\n"
     ]
    }
   ],
   "source": [
    "# Convertir 'date' a datetime y extraer hora/mes\n",
    "df['date'] = pd.to_datetime(df['date'])\n",
    "df['hour'] = df['date'].dt.hour  # Hora del día (0-23)\n",
    "df['month'] = df['date'].dt.month  # Mes (1-12)\n",
    "\n",
    "# Verificación\n",
    "print(\"\\nPrimeras 3 filas con hora y mes:\")\n",
    "print(df[['date', 'hour', 'month']].head(3))"
   ]
  },
  {
   "cell_type": "markdown",
   "id": "819243da",
   "metadata": {},
   "source": [
    "Con la velocidad en números decimales y la fecha en formato 'datetime' estamos más cerca del análisis exploratorio. Pero aún hay más datos que modificar. Por ejemplo, las columnas 'distance', 'calories' y 'steps' --entre otras-- son de tipo object, cadenas de texto. Hagamos de ellas datos de tipo 'float' o 'int', es decir: números decimales o enteros. "
   ]
  },
  {
   "cell_type": "code",
   "execution_count": 16,
   "id": "13769815",
   "metadata": {},
   "outputs": [
    {
     "name": "stdout",
     "output_type": "stream",
     "text": [
      "\n",
      " Tipos de datos después de la limpieza:\n",
      "distance         float64\n",
      "calories           Int64\n",
      "steps              int64\n",
      "min_elevation      Int64\n",
      "max_elevation      Int64\n",
      "dtype: object\n"
     ]
    }
   ],
   "source": [
    "# Función segura para conversión\n",
    "def convert_column(series, to_type='float', remove_char=','):\n",
    "    # Primero convertir a string si no lo es\n",
    "    if series.dtype != object:\n",
    "        series = series.astype(str)\n",
    "    \n",
    "    # Reemplazar caracteres y convertir al tipo deseado\n",
    "    series = series.str.replace(remove_char, '')\n",
    "    if to_type == 'float':\n",
    "        return pd.to_numeric(series, errors='coerce')\n",
    "    elif to_type == 'int':\n",
    "        return pd.to_numeric(series, errors='coerce').astype('Int64')  # Usar Int64 para manejar NaN\n",
    "    else:\n",
    "        return series\n",
    "\n",
    "# Aplicar a cada columna\n",
    "df['distance'] = convert_column(df['distance'], 'float', ',')\n",
    "df['calories'] = convert_column(df['calories'], 'int', ',')\n",
    "df['steps'] = convert_column(df['steps'], 'float', ',')\n",
    "df['min_elevation'] = convert_column(df['min_elevation'], 'int', ',')\n",
    "df['max_elevation'] = convert_column(df['max_elevation'], 'int', ',')\n",
    "\n",
    "\n",
    "# Verificación\n",
    "print(\"\\n Tipos de datos después de la limpieza:\")\n",
    "print(df[['distance', 'calories', 'steps', 'min_elevation', 'max_elevation']].dtypes)\n",
    "\n"
   ]
  },
  {
   "cell_type": "code",
   "execution_count": 17,
   "id": "50c364e8",
   "metadata": {},
   "outputs": [
    {
     "name": "stdout",
     "output_type": "stream",
     "text": [
      " Estadísticas clave:\n",
      "        distance      avg_hr    avg_pace    calories\n",
      "count  140.00000  140.000000  140.000000       140.0\n",
      "mean     7.24350  143.557143    6.078810  517.707143\n",
      "std      7.30661   13.746037    0.905933  517.956506\n",
      "min      0.20000  112.000000    2.383333        10.0\n",
      "25%      2.59250  134.000000    5.945833       174.5\n",
      "50%      4.58000  143.000000    6.350000       330.5\n",
      "75%      8.90750  152.000000    6.616667       640.5\n",
      "max     42.85000  178.000000    7.933333      2999.0\n"
     ]
    }
   ],
   "source": [
    "# Estadísticas descriptivas clave\n",
    "print(\" Estadísticas clave:\")\n",
    "print(df[['distance', 'avg_hr', 'avg_pace', 'calories']].describe())\n"
   ]
  },
  {
   "cell_type": "markdown",
   "id": "77a1ded6",
   "metadata": {},
   "source": [
    "## Distribución de distancias\n",
    "A través de un histograma veremos cuáles son las distancias que más en corrido en el último año. Así nos empezamos a familiarizar con mi entrenamiento y conocemos sus patrones. "
   ]
  },
  {
   "cell_type": "code",
   "execution_count": 19,
   "id": "ff97a75b",
   "metadata": {},
   "outputs": [
    {
     "data": {
      "image/png": "[encoded data removed]",
      "text/plain": [
       "<Figure size 640x480 with 1 Axes>"
      ]
     },
     "metadata": {},
     "output_type": "display_data"
    }
   ],
   "source": [
    "# Histograma de distancias\n",
    "df['distance'].plot(kind='hist',\n",
    "                    bins=25,\n",
    "                    title='Distribución de distancias')\n",
    "plt.xlabel('Distancia (km)')\n",
    "plt.ylabel('Frecuencia')\n",
    "plt.show()"
   ]
  },
  {
   "cell_type": "markdown",
   "id": "0465234b",
   "metadata": {},
   "source": [
    "Las carreras de cuatro y cinco kilómetros son las más frecuentes. Ellas son parte fundamental de mi entrenamiento. Las uso como calentamiento en las mañanas antes de hacer algo de calistenia. Es decir, son carreras a ritmo lento.\n",
    "\n",
    "Las carreras que van de 7 kilómetros a 11 kilómetros son carreras a ritmo más acelerado, donde corro algunas series de un kilómetro después de calentar. O corro a ritmo de umbral láctico (antes de que la concentración de lactato en la sangre aumente significativamente) para volver mi cuerpo más eficiente en esfuerzos considerables.\n",
    "\n",
    "Todas las distancias más largas son fondos, es decir, carreras largas a ritmo lento donde mi cuerpo se adapta a esfuerzos moderados durante mucho tiempo. Ésas carreras forman parte fundamental de la preparación para distancias de 21KM (media maratón) y 42KM (maratón).\n",
    "\n",
    "El valor atípico al final es de una maratón que corrí en agosto de 2024."
   ]
  },
  {
   "cell_type": "markdown",
   "id": "8057fa44",
   "metadata": {},
   "source": [
    "## Promedio de distancia por mes\n",
    "En promedio mis carreras son más largas fueron en los meses previos al Medio Maratón de la Ciudad de México y al Maratón de la Ciudad de México. El Medio Maratón se corre en julio y el Maratón en agosto. La primavera y el verano son las estaciones del año con carreras más largas en promedio.\n",
    "\n",
    "La preparación para distancias tan largas requiere de entrenamientos largos. Después de agosto llegó el fin de año, sin competencias a la vista. Mi actividad física disminuyó después de esas dos competencias.\n",
    "\n",
    "Empieza la primavera y las carreras en promedio se van alargando hasta su punto más alto en julio y agosto, donde empieza la disminución de la distancia."
   ]
  },
  {
   "cell_type": "code",
   "execution_count": 22,
   "id": "fedc8c63",
   "metadata": {},
   "outputs": [
    {
     "data": {
      "image/png": "[encoded data removed]",
      "text/plain": [
       "<Figure size 640x480 with 1 Axes>"
      ]
     },
     "metadata": {},
     "output_type": "display_data"
    }
   ],
   "source": [
    "# Tendencia de distancia a lo largo del tiempo\n",
    "df.groupby('month')['distance'].mean().plot(kind='line', title='Promedio de distancia por mes')\n",
    "plt.xlabel('Mes')\n",
    "plt.ylabel('Distancia promedio (km)')\n",
    "plt.show()"
   ]
  }
 ],
 "metadata": {
  "kernelspec": {
   "display_name": "Python [conda env:base] *",
   "language": "python",
   "name": "conda-base-py"
  },
  "language_info": {
   "codemirror_mode": {
    "name": "ipython",
    "version": 3
   },
   "file_extension": ".py",
   "mimetype": "text/x-python",
   "name": "python",
   "nbconvert_exporter": "python",
   "pygments_lexer": "ipython3",
   "version": "3.12.7"
  }
 },
 "nbformat": 4,
 "nbformat_minor": 5
}
